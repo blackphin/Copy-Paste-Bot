{
 "cells": [
  {
   "cell_type": "code",
   "execution_count": null,
   "metadata": {},
   "outputs": [],
   "source": [
    "import pyautogui as auto\n",
    "import time\n",
    "\n",
    "file1 = open(\"paste.txt\", \"r\")\n",
    "message1 = file1.read()\n",
    "print(message1)\n",
    "time.sleep(4)\n",
    "auto.write(message=message1)\n",
    "file1.close()"
   ]
  }
 ],
 "metadata": {
  "kernelspec": {
   "display_name": "Python 3.10.5 ('.venv': venv)",
   "language": "python",
   "name": "python3"
  },
  "language_info": {
   "codemirror_mode": {
    "name": "ipython",
    "version": 3
   },
   "file_extension": ".py",
   "mimetype": "text/x-python",
   "name": "python",
   "nbconvert_exporter": "python",
   "pygments_lexer": "ipython3",
   "version": "3.10.5"
  },
  "orig_nbformat": 4,
  "vscode": {
   "interpreter": {
    "hash": "aeccf22943d348a96e9447a7be137a1cae4e606a140a39c8d9a8d2602a7fe999"
   }
  }
 },
 "nbformat": 4,
 "nbformat_minor": 2
}
