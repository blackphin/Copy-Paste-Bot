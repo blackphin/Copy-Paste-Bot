{
 "cells": [
  {
   "cell_type": "code",
   "execution_count": 4,
   "metadata": {},
   "outputs": [
    {
     "name": "stdout",
     "output_type": "stream",
     "text": [
      "s=int(input())\n",
      "n=int(input())\n",
      "\n",
      "def streak(n):\n",
      "k=1\n",
      "while((n+k)%(k+1)==0):\n",
      "k+=1\n",
      "return k\n",
      "\n",
      "count=0\n",
      "for i in range(2,n+3):\n",
      "if streak(i)==s:\n",
      "count+=1\n",
      "print(count)\n"
     ]
    }
   ],
   "source": [
    "import time\n",
    "import pyautogui as auto\n",
    "\n",
    "file1 = open(\"paste.txt\", \"r\")\n",
    "message1 = file1.read()\n",
    "print(message1)\n",
    "time.sleep(4)\n",
    "auto.write(message=message1)\n",
    "file1.close()\n"
   ]
  }
 ],
 "metadata": {
  "kernelspec": {
   "display_name": "Python 3.10.5 ('venv_swiggy_web_scrapper': venv)",
   "language": "python",
   "name": "python3"
  },
  "language_info": {
   "codemirror_mode": {
    "name": "ipython",
    "version": 3
   },
   "file_extension": ".py",
   "mimetype": "text/x-python",
   "name": "python",
   "nbconvert_exporter": "python",
   "pygments_lexer": "ipython3",
   "version": "3.10.5"
  },
  "orig_nbformat": 4,
  "vscode": {
   "interpreter": {
    "hash": "ecba91e3c4541b876ee9a76b53160b5e85c501c619630f9ba6e97c8e96c5d16d"
   }
  }
 },
 "nbformat": 4,
 "nbformat_minor": 2
}
